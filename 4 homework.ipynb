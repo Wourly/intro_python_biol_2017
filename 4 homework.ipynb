{
 "cells": [
  {
   "cell_type": "code",
   "execution_count": 1,
   "metadata": {},
   "outputs": [
    {
     "name": "stdout",
     "output_type": "stream",
     "text": [
      "Insert DNA sequence! Input: ACTGAATGCT\n"
     ]
    }
   ],
   "source": [
    "#this loop makes sure, that only DNA nucleotides are in imput\n",
    "while True:\n",
    "    \n",
    "    sequence = str(input(\"Insert DNA sequence! Input: \")).upper()\n",
    "    \n",
    "    if set(sequence) <= {\"A\", \"C\", \"T\", \"G\"}:\n",
    "        break\n",
    "    else:\n",
    "        print(\"At least one of input symbols is not a representing a DNA nucleotide!\")"
   ]
  },
  {
   "cell_type": "code",
   "execution_count": 2,
   "metadata": {},
   "outputs": [
    {
     "name": "stdout",
     "output_type": "stream",
     "text": [
      "0.3\n"
     ]
    }
   ],
   "source": [
    "#counts abundance ratio of single DNA nucleotide\n",
    "def count_DNA_nucleotide(sequence, nucleotide):\n",
    "\n",
    "    nucleotide_count = 0\n",
    "\n",
    "    for element in sequence:\n",
    "        if element == nucleotide:\n",
    "            nucleotide_count += 1\n",
    "        \n",
    "    return  nucleotide_count/len(sequence)\n",
    "\n",
    "\n",
    "print(count_DNA_nucleotide(sequence, \"A\"))"
   ]
  },
  {
   "cell_type": "code",
   "execution_count": 3,
   "metadata": {},
   "outputs": [
    {
     "name": "stdout",
     "output_type": "stream",
     "text": [
      "Ratio of A is 0.3.\n",
      "Ratio of C is 0.2.\n",
      "Ratio of G is 0.2.\n",
      "Ratio of T is 0.3.\n",
      "Count of nucleotides is 10\n"
     ]
    },
    {
     "data": {
      "text/plain": [
       "{'A': 0.3, 'C': 0.2, 'G': 0.2, 'T': 0.3, 'nucleotides': 10}"
      ]
     },
     "execution_count": 3,
     "metadata": {},
     "output_type": "execute_result"
    }
   ],
   "source": [
    "#counts abundance of every DNA nucleotide, prints that ratio and number of nucleotides in sequence\n",
    "def count_DNA_nucleotides(sequence):\n",
    "    \n",
    "    ratio_adenine = count_DNA_nucleotide(sequence, \"A\")\n",
    "    ratio_cytosine = count_DNA_nucleotide(sequence, \"C\")\n",
    "    ratio_guanine = count_DNA_nucleotide(sequence, \"G\")\n",
    "    ratio_thymine = count_DNA_nucleotide(sequence, \"T\")\n",
    "    \n",
    "    ratios_of_DNA_nucleotides = {\"A\":ratio_adenine, \"C\":ratio_cytosine, \"G\":ratio_guanine, \"T\":ratio_thymine, \"nucleotides\":len(sequence)}\n",
    "    \n",
    "    iteration = 0\n",
    "\n",
    "    for name, ratio in ratios_of_DNA_nucleotides.items():\n",
    "        iteration += 1\n",
    "        print(\"Ratio of \" + str(name) + \" is \" + str(ratio) + \".\")\n",
    "    \n",
    "        if iteration == 4:\n",
    "            print(\"Count of nucleotides is \" + str(ratios_of_DNA_nucleotides[\"nucleotides\"]))\n",
    "            break\n",
    "    \n",
    "    return ratios_of_DNA_nucleotides\n",
    "\n",
    "freq = count_DNA_nucleotides(sequence)\n",
    "\n",
    "freq"
   ]
  },
  {
   "cell_type": "code",
   "execution_count": null,
   "metadata": {
    "collapsed": true
   },
   "outputs": [],
   "source": []
  }
 ],
 "metadata": {
  "kernelspec": {
   "display_name": "Python 3",
   "language": "python",
   "name": "python3"
  },
  "language_info": {
   "codemirror_mode": {
    "name": "ipython",
    "version": 3
   },
   "file_extension": ".py",
   "mimetype": "text/x-python",
   "name": "python",
   "nbconvert_exporter": "python",
   "pygments_lexer": "ipython3",
   "version": "3.6.1"
  }
 },
 "nbformat": 4,
 "nbformat_minor": 2
}
