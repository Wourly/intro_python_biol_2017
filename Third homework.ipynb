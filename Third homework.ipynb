{
 "cells": [
  {
   "cell_type": "code",
   "execution_count": 1,
   "metadata": {},
   "outputs": [
    {
     "name": "stdout",
     "output_type": "stream",
     "text": [
      "Počet písmen je 52.\n",
      "Počet číslic je 3.\n",
      "Počet jiných znaků je 19.\n"
     ]
    }
   ],
   "source": [
    "sample = 'Král řekl Honzovi: \"Ta saň má 7 hlav! Zabij ji a dostaneš 1/2 království.\"'\n",
    "\n",
    "letters = 0\n",
    "numbers = 0\n",
    "\n",
    "for element in sample:\n",
    "    if element.isalpha():\n",
    "        letters = letters + 1\n",
    "    elif element.isdigit():\n",
    "        numbers = numbers + 1\n",
    "        \n",
    "        \n",
    "print(\"Počet písmen je {}.\".format(letters))\n",
    "print(\"Počet číslic je {}.\".format(numbers))\n",
    "print(\"Počet jiných znaků je {}.\".format(len(sample) - (letters + numbers)))"
   ]
  },
  {
   "cell_type": "code",
   "execution_count": 2,
   "metadata": {},
   "outputs": [
    {
     "name": "stdout",
     "output_type": "stream",
     "text": [
      "Zadejte věk vaší kočky! Zadáno: 83\n",
      "Zadejte jméno vaší kočky! Zadáno: mikes\n",
      "Vaše kočka mikes s kočičím věkem 83 let, má lidský věk 430 let.\n"
     ]
    }
   ],
   "source": [
    "catAge = int(input(\"Zadejte věk vaší kočky! Zadáno: \"))\n",
    "catName = input(\"Zadejte jméno vaší kočky! Zadáno: \")\n",
    "\n",
    "if catAge == 0:\n",
    "    catHumanAge = \"nižší než 18\"\n",
    "elif catAge == 1:\n",
    "    catHumanAge = 18\n",
    "elif catAge == 2:\n",
    "    catHumanAge = 25\n",
    "elif catAge > 2:\n",
    "    catHumanAge = 15 + catAge*5\n",
    "    \n",
    "print(\"Vaše kočka {} s kočičím věkem {} let, má lidský věk {} let.\".format(catName, catAge, catHumanAge))"
   ]
  },
  {
   "cell_type": "code",
   "execution_count": null,
   "metadata": {
    "collapsed": true
   },
   "outputs": [],
   "source": []
  }
 ],
 "metadata": {
  "kernelspec": {
   "display_name": "Python 3",
   "language": "python",
   "name": "python3"
  },
  "language_info": {
   "codemirror_mode": {
    "name": "ipython",
    "version": 3
   },
   "file_extension": ".py",
   "mimetype": "text/x-python",
   "name": "python",
   "nbconvert_exporter": "python",
   "pygments_lexer": "ipython3",
   "version": "3.6.1"
  }
 },
 "nbformat": 4,
 "nbformat_minor": 2
}
